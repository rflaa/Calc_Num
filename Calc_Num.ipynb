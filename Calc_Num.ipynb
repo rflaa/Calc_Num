{
  "nbformat": 4,
  "nbformat_minor": 0,
  "metadata": {
    "colab": {
      "provenance": [],
      "authorship_tag": "ABX9TyM5hTo2MKbFUvK4kQi+lJcM",
      "include_colab_link": true
    },
    "kernelspec": {
      "name": "python3",
      "display_name": "Python 3"
    },
    "language_info": {
      "name": "python"
    }
  },
  "cells": [
    {
      "cell_type": "markdown",
      "metadata": {
        "id": "view-in-github",
        "colab_type": "text"
      },
      "source": [
        "<a href=\"https://colab.research.google.com/github/rflaa/Calc_Num/blob/main/Calc_Num.ipynb\" target=\"_parent\"><img src=\"https://colab.research.google.com/assets/colab-badge.svg\" alt=\"Open In Colab\"/></a>"
      ]
    },
    {
      "cell_type": "markdown",
      "source": [
        "# Cálculo Numérico (Exercício 1)"
      ],
      "metadata": {
        "id": "2j_bxsi-XzRa"
      }
    },
    {
      "cell_type": "markdown",
      "source": [
        "Dada a função:\n",
        "\n",
        "$f(x)=x^2-2$\n",
        "\n",
        "Podemos usar o algoritmo para descobrir se existem raízes."
      ],
      "metadata": {
        "id": "g_vfoRnX_4XL"
      }
    },
    {
      "cell_type": "code",
      "source": [
        "from math import exp, sqrt, pow\n",
        "\n",
        "def function(x):\n",
        "  y = float(3*pow(x,3)-pow(x,2)-x)\n",
        "  return y\n",
        "\n",
        "def search(function):\n",
        "  n = int(0)\n",
        "  phi = (1+sqrt(5))/2\n",
        "  a = float(0.6)\n",
        "  b = float(1)\n",
        "  tam0 = float(max(a,b) - min(a,b))\n",
        "  nmax = int(20)\n",
        "\n",
        "  while(n < nmax):\n",
        "    print(f\"f(a)={function(a):.5f}\")\n",
        "    print(f\"f(b)={function(b):.5f}\")\n",
        "    if (function(a)*function(b)) < 0:\n",
        "      return [1,float(a),float(b),int(n)]\n",
        "    elif((function(a)*function(b))) > 0 and function(a) < function(b):\n",
        "      b = b*phi\n",
        "      n = n+1\n",
        "    else:\n",
        "      a = a*(1-phi)\n",
        "      n = n+1\n",
        "  if(n == nmax):\n",
        "    tamF = float(max(a,b) - min(a,b))\n",
        "    return [0,a,b,float(tam0/tamF)]\n",
        "\n",
        "if __name__ == \"__main__\":\n",
        "  result, a, b, n = search(function)\n",
        "  if(result == 0):\n",
        "    print(\"Número máximo de iterações atingidas, nenhuma raíz encontrada.\")\n",
        "    print(f\"O tamanho final do intervalo [a,b] é {n:.5f} vezes o inicial.\")\n",
        "  else:\n",
        "    print(f\"Raíz encontrada no intervalo [{a:.5f},{b:.5f}]\")\n",
        "    print(f\"{n} iterações foram necessárias.\")"
      ],
      "metadata": {
        "colab": {
          "base_uri": "https://localhost:8080/"
        },
        "id": "vKVQwDBrZuLC",
        "outputId": "7d585630-8751-48d6-f929-7df9292e1137"
      },
      "execution_count": null,
      "outputs": [
        {
          "output_type": "stream",
          "name": "stdout",
          "text": [
            "f(a)=4.87200\n",
            "f(b)=6.37500\n",
            "f(a)=4.87200\n",
            "f(b)=34.57256\n",
            "f(a)=4.87200\n",
            "f(b)=162.33697\n",
            "f(a)=4.87200\n",
            "f(b)=722.90449\n",
            "f(a)=4.87200\n",
            "f(b)=3144.23530\n",
            "f(a)=4.87200\n",
            "f(b)=13517.14046\n",
            "f(a)=4.87200\n",
            "f(b)=57750.83883\n",
            "f(a)=4.87200\n",
            "f(b)=245879.20142\n",
            "f(a)=4.87200\n",
            "f(b)=1044744.03285\n",
            "f(a)=4.87200\n",
            "f(b)=4433825.98068\n",
            "f(a)=4.87200\n",
            "f(b)=18803322.01234\n",
            "f(a)=4.87200\n",
            "f(b)=79707704.24252\n",
            "f(a)=4.87200\n",
            "f(b)=337792212.75468\n",
            "f(a)=4.87200\n",
            "f(b)=1431289502.24713\n",
            "f(a)=4.87200\n",
            "f(b)=6064029882.00179\n",
            "f(a)=4.87200\n",
            "f(b)=25690233272.99893\n",
            "f(a)=4.87200\n",
            "f(b)=108832353144.00081\n",
            "f(a)=4.87200\n",
            "f(b)=461038987427.25012\n",
            "f(a)=4.87200\n",
            "f(b)=1953038929830.75269\n",
            "f(a)=4.87200\n",
            "f(b)=8273327233829.25977\n",
            "Número máximo de iterações atingidas, nenhuma raíz encontrada.\n",
            "O tamanho final do intervalo [a,b] é 0.00000 vezes o inicial.\n"
          ]
        }
      ]
    },
    {
      "cell_type": "markdown",
      "source": [
        "# Cálculo Numérico (Exercício 2)"
      ],
      "metadata": {
        "id": "gKwrEfCu_EeJ"
      }
    },
    {
      "cell_type": "markdown",
      "source": [
        "Utilizaremos diferentes métodos para encontrar as raízes da função:\n",
        "$x^2 = 2$ , com 3 casas de precisão.\n",
        "Primeiro, transformando a equação em função, que se torna:\n",
        "$f(x)=x^2-2$"
      ],
      "metadata": {
        "id": "tKHEnmLt_x5K"
      }
    },
    {
      "cell_type": "markdown",
      "source": [
        "###Método da Bisseção:"
      ],
      "metadata": {
        "id": "8XWAecXlArfp"
      }
    },
    {
      "cell_type": "code",
      "source": [
        "import math\n",
        "\n",
        "def function(x):\n",
        "  y = float(pow(x,2)-2)\n",
        "  return y\n",
        "\n",
        "def search(function, a, b, nmax):\n",
        "  n = 0\n",
        "  phi = (1+math.sqrt(5))/2\n",
        "  tam0 = float(max(a,b) - min(a,b))\n",
        "\n",
        "  while(n < nmax):\n",
        "    print(f\"f({a:.4f}) = {function(a):.5f}\")\n",
        "    print(f\"f({b:.4f}) = {function(b):.5f}\")\n",
        "    if (function(a)*function(b)) < 0:\n",
        "      return [1,float(a),float(b),int(n)]\n",
        "    elif((function(a)*function(b))) > 0 and function(a) < function(b):\n",
        "      b = b*phi\n",
        "      n = n+1\n",
        "    else:\n",
        "      a = a*(1-phi)\n",
        "      n = n+1\n",
        "  if(n > nmax):\n",
        "    tamF = float(max(a,b) - min(a,b))\n",
        "    return [0,a,b,float(tam0/tamF)]\n",
        "\n",
        "def bisection(tolerance, a, b):\n",
        "    while (abs(b-a) >= tolerance):\n",
        "      x = float((a+b)/2)\n",
        "      if(function(a)*function(x)) < 0:\n",
        "        b = x\n",
        "      else:\n",
        "        a = x\n",
        "    return float((a+b)/2)\n",
        "\n",
        "if __name__ == \"__main__\":\n",
        "  result, a, b, n = search(function, -1, 1, 30)\n",
        "\n",
        "  if result == 0:\n",
        "    print(\"Nenhuma raiz encontrada dentro da tolerância\")\n",
        "  else:\n",
        "    tolerance = float(0.001)\n",
        "    raiz = bisection(tolerance, a, b)\n",
        "    print(f\"A raiz encontrada foi {raiz:.5f}\")\n",
        "    print(f\"Uma raiz verdadeira está entre [{raiz-tolerance:.5f},{raiz+tolerance:.5f}]\")"
      ],
      "metadata": {
        "id": "WZ8cxRKGAppi",
        "colab": {
          "base_uri": "https://localhost:8080/"
        },
        "outputId": "b0900f38-c4ae-4ab2-f3b0-487cdede1b41"
      },
      "execution_count": null,
      "outputs": [
        {
          "output_type": "stream",
          "name": "stdout",
          "text": [
            "f(-1.0000) = -1.00000\n",
            "f(1.0000) = -1.00000\n",
            "f(0.6180) = -1.61803\n",
            "f(1.0000) = -1.00000\n",
            "f(0.6180) = -1.61803\n",
            "f(1.6180) = 0.61803\n",
            "A raiz encontrada foi 1.41442\n",
            "Uma raiz verdadeira está entre [1.41342,1.41542]\n"
          ]
        }
      ]
    },
    {
      "cell_type": "markdown",
      "source": [
        "###Método da Falsa Posição"
      ],
      "metadata": {
        "id": "bIyhjidJ2iF9"
      }
    },
    {
      "cell_type": "code",
      "source": [
        "import math\n",
        "\n",
        "def function(x):\n",
        "  y = float(pow(x,2)-2)\n",
        "  return y\n",
        "\n",
        "def search(function, a, b, nmax):\n",
        "  n = 0\n",
        "  phi = (1+math.sqrt(5))/2\n",
        "  tam0 = float(max(a,b) - min(a,b))\n",
        "\n",
        "  while(n < nmax):\n",
        "    print(f\"f({a:.4f}) = {function(a):.5f}\")\n",
        "    print(f\"f({b:.4f}) = {function(b):.5f}\")\n",
        "    if (function(a)*function(b)) < 0:\n",
        "      return [1,float(a),float(b),int(n)]\n",
        "    elif((function(a)*function(b))) > 0 and function(a) < function(b):\n",
        "      b = b*phi\n",
        "      n = n+1\n",
        "    else:\n",
        "      a = a*(1-phi)\n",
        "      n = n+1\n",
        "  if(n > nmax):\n",
        "    tamF = float(max(a,b) - min(a,b))\n",
        "    return [0,a,b,float(tam0/tamF)]\n",
        "\n",
        "def falsepos(tolerance, a, b):\n",
        "  x = float((a*function(b)-b*function(a))/function(b)-function(a))\n",
        "  while (abs(b-a) >= tolerance):\n",
        "    x = float((a*function(b)-b*function(a))/function(b)-function(a))\n",
        "    if(function(a)*function(x)) < 0:\n",
        "      b = x\n",
        "    else:\n",
        "      a = x\n",
        "  return float(x)\n",
        "\n",
        "if __name__ == \"__main__\":\n",
        "  result, a, b, n = search(function, -1, 1, 30)\n",
        "\n",
        "  if result == 0:\n",
        "    print(\"Nenhuma raiz encontrada dentro da tolerância\")\n",
        "  else:\n",
        "    tolerance = float(0.001)\n",
        "    raiz = bisection(tolerance, a, b)\n",
        "    print(f\"A raiz encontrada foi {raiz:.5f}\")\n",
        "    print(f\"Uma raiz verdadeira está entre [{raiz-tolerance:.5f},{raiz+tolerance:.5f}]\")"
      ],
      "metadata": {
        "colab": {
          "base_uri": "https://localhost:8080/"
        },
        "id": "y4hf2T5S2mxz",
        "outputId": "d8659586-c83b-4dd0-95e8-ef7aa97d45d4"
      },
      "execution_count": null,
      "outputs": [
        {
          "output_type": "stream",
          "name": "stdout",
          "text": [
            "f(-1.0000) = -1.00000\n",
            "f(1.0000) = -1.00000\n",
            "f(0.6180) = -1.61803\n",
            "f(1.0000) = -1.00000\n",
            "f(0.6180) = -1.61803\n",
            "f(1.6180) = 0.61803\n",
            "A raiz encontrada foi 1.41442\n",
            "Uma raiz verdadeira está entre [1.41342,1.41542]\n"
          ]
        }
      ]
    },
    {
      "cell_type": "markdown",
      "source": [
        "###Método de Newton"
      ],
      "metadata": {
        "id": "627RmB3njDMb"
      }
    },
    {
      "cell_type": "code",
      "source": [
        "import math\n",
        "\n",
        "def function(x):\n",
        "  y = float(pow(x,2)-2)\n",
        "  return y\n",
        "\n",
        "def diffunction(x):\n",
        "  y = float(2*x)\n",
        "  return y\n",
        "\n",
        "def newton(x0, function, diffunction, nmax, tolerance):\n",
        "  n = 1\n",
        "  x1 = float(x0 - (function(x0)/diffunction(x0)))\n",
        "\n",
        "  while(abs(function(x0)) >= tolerance):\n",
        "    n += n\n",
        "    x0 = x1\n",
        "    x1 = float(x0 - (function(x0)/diffunction(x0)))\n",
        "    if(n >= nmax):\n",
        "      return[x1,n]\n",
        "  return [x1,n]\n",
        "\n",
        "if __name__ == \"__main__\":\n",
        "    tolerance = float(0.001)\n",
        "    nmax = int(30)\n",
        "    x0 = float(1)\n",
        "    raiz, n = newton(x0,function,diffunction,nmax,tolerance)\n",
        "    print(f\"A raiz encontrada foi {float(raiz):.5f}\")\n",
        "    print(f\"Foram necessárias {int(n)} iterações\")\n",
        "    print(f\"Uma raiz verdadeira está entre [{float(raiz-tolerance):.5f} , {float(raiz+tolerance):.5f}]\")"
      ],
      "metadata": {
        "colab": {
          "base_uri": "https://localhost:8080/"
        },
        "id": "C2y19R6vjr4K",
        "outputId": "702494b2-73c1-4adc-8193-694931c1de84"
      },
      "execution_count": null,
      "outputs": [
        {
          "output_type": "stream",
          "name": "stdout",
          "text": [
            "A raiz encontrada foi 1.41421\n",
            "Foram necessárias 8 iterações\n",
            "Uma raiz verdadeira está entre [1.41321 , 1.41521]\n"
          ]
        }
      ]
    },
    {
      "cell_type": "code",
      "source": [],
      "metadata": {
        "id": "GwaWZYX0p4O8"
      },
      "execution_count": null,
      "outputs": []
    },
    {
      "cell_type": "markdown",
      "source": [
        "#Cálculo Numérico (Sistemas Lineares)"
      ],
      "metadata": {
        "id": "GVWXgE5jpuLV"
      }
    },
    {
      "cell_type": "markdown",
      "source": [
        "Com um Sistema Linear à disposição, podemos utilizar diferentes formas para resolvé-lo.\n",
        "\n",
        "Primeiro, precisamos resolver os casos mais simples:\n",
        "\n",
        "###Matriz Triangular Superior"
      ],
      "metadata": {
        "id": "zFmu5zjFqFZP"
      }
    },
    {
      "cell_type": "code",
      "source": [
        "import numpy as np\n",
        "import matplotlib.pyplot as plt\n",
        "\n",
        "def is_trisup(A):\n",
        "  dimA = A.shape\n",
        "  linhasA = A.shape[0]\n",
        "  colunasA = A.shape[1]\n",
        "\n",
        "  if linhasA != colunasA: return False\n",
        "  for j in np.arange(colunasA):\n",
        "    if(A[j,j]==0): return False\n",
        "    for i in np.arange(j+1,linhasA) :\n",
        "      if(A[i,j]!=0): return(False)\n",
        "  return(True)\n",
        "\n",
        "def solve_trisup(A, b):\n",
        "  if is_trisup(A) == False: return null\n",
        "\n",
        "  linhas = A.shape[0]\n",
        "  x = np.zeros(linhas)\n",
        "  x[linhas-1] = b[linhas-1]/A[linhas-1,linhas-1]\n",
        "  for i in np.arange(linhas-2,-1,-1):\n",
        "    for j in np.arange(i+1,linhas):\n",
        "      x[i] = x[i] + A[i,j]*x[j]\n",
        "    x[i] = (b[i] - x[i])/A[i,i]\n",
        "  return x\n",
        "\n",
        "if __name__ == \"__main__\":\n",
        "  #teste\n",
        "  A = np.array([[12,2,3.3,4,5],[0,2,1.56,0,0],[0,0,-9,1,-1],[0,0,0,-11,1],[0,0,0,0,3]])\n",
        "  b = np.array([2,3,4,0,2])\n",
        "  print('Nossa Solução:',solve_trisup(A,b))\n",
        "  print('Solução do Numpy:',np.linalg.solve(A,b))\n"
      ],
      "metadata": {
        "colab": {
          "base_uri": "https://localhost:8080/"
        },
        "id": "YjoAvCx9p_5l",
        "outputId": "68019135-78d6-4d69-cc8a-a0f18369ca21"
      },
      "execution_count": null,
      "outputs": [
        {
          "output_type": "stream",
          "name": "stdout",
          "text": [
            "Nossa Solução: [-0.30710438  1.89919192 -0.51178451  0.06060606  0.66666667]\n",
            "Solução do Numpy: [-0.30710438  1.89919192 -0.51178451  0.06060606  0.66666667]\n"
          ]
        }
      ]
    },
    {
      "cell_type": "markdown",
      "source": [
        "###Eliminação Gaussiana"
      ],
      "metadata": {
        "id": "FMxl7qLA8ZwX"
      }
    },
    {
      "cell_type": "markdown",
      "source": [
        "Este método resolve sistemas lineares da forma:\n",
        "\n",
        "$Ax = b$\n",
        "\n",
        "Tornando a matriz A em uma matriz triangular superior U."
      ],
      "metadata": {
        "id": "jTXFw5Um87FE"
      }
    },
    {
      "cell_type": "code",
      "source": [
        "import numpy as np\n",
        "import matplotlib.pyplot as plt\n",
        "\n",
        "def elim_gauss(A,b):\n",
        "    A = A.astype(float).copy()\n",
        "    b = b.astype(float).copy()\n",
        "    n = len(b)\n",
        "\n",
        "    #Matriz Expandida\n",
        "    Ab = np.zeros((n,n+1),dtype=float)\n",
        "    Ab[:,:-1] = A\n",
        "    Ab[:,-1] = b\n",
        "    print(Ab)\n",
        "\n",
        "    #Eliminação\n",
        "    for i in range(n-1):\n",
        "      if Ab[i][i] == 0.0:\n",
        "        raise ValueError(\"Divisão por 0 na diagonal principal.\")\n",
        "      for j in range(i+1, n):\n",
        "        m = Ab[j,i]/Ab[i,i]\n",
        "        Ab[j] -= m*Ab[i]\n",
        "        print(Ab)\n",
        "\n",
        "    #Separando as matrizes\n",
        "    A = Ab[:,:-1]\n",
        "    b = Ab[:,-1]\n",
        "\n",
        "    #Solução (Substituição Prog. Reversa)\n",
        "    x = np.zeros(n)\n",
        "    for i in range(n-1,-1,-1):\n",
        "      x[i] = (b[i] - np.dot(A[i,i+1:],x[i+1:]))/A[i,i] #pq só funciona assim??\n",
        "    return x\n",
        "\n",
        "if __name__ == \"__main__\":\n",
        "  # Exemplo de uso\n",
        "  A = np.array([[2, 1, 1],\n",
        "                [4, -6, 0],\n",
        "                [-2, 7, 2]], dtype=float)\n",
        "\n",
        "  b = np.array([5, -2, 9], dtype=float)\n",
        "\n",
        "  print('Nossa Solução:',elim_gauss(A, b))\n",
        "\n",
        "  #O python já tem uma função para solução de sistemas lineares por eliminação gaussiana:\n",
        "  print('Solução do Python:', np.linalg.solve(A,b))\n"
      ],
      "metadata": {
        "colab": {
          "base_uri": "https://localhost:8080/"
        },
        "id": "ZP0d10H64GiP",
        "outputId": "5dab4e99-aa50-40fc-f3ed-736a90dc48b3"
      },
      "execution_count": null,
      "outputs": [
        {
          "output_type": "stream",
          "name": "stdout",
          "text": [
            "[[ 2.  1.  1.  5.]\n",
            " [ 4. -6.  0. -2.]\n",
            " [-2.  7.  2.  9.]]\n",
            "[[  2.   1.   1.   5.]\n",
            " [  0.  -8.  -2. -12.]\n",
            " [ -2.   7.   2.   9.]]\n",
            "[[  2.   1.   1.   5.]\n",
            " [  0.  -8.  -2. -12.]\n",
            " [  0.   8.   3.  14.]]\n",
            "[[  2.   1.   1.   5.]\n",
            " [  0.  -8.  -2. -12.]\n",
            " [  0.   0.   1.   2.]]\n",
            "Nossa Solução: [1. 1. 2.]\n",
            "Solução do Python: [1. 1. 2.]\n"
          ]
        }
      ]
    },
    {
      "cell_type": "markdown",
      "source": [
        "#Cálculo Numérico (Sistemas Não-Lineares)"
      ],
      "metadata": {
        "id": "bgsKM9vdUEym"
      }
    },
    {
      "cell_type": "markdown",
      "source": [
        "Neste primeiro exemplo, usamos um exemplo genérico onde calculamos a matriz jacobiana de F(x) manualmente. Usando o sistema:\n",
        "\n",
        "$x^2+y^2=4$\n",
        "\n",
        "$e^x+y=1$\n"
      ],
      "metadata": {
        "id": "fPbyS_bf4osU"
      }
    },
    {
      "cell_type": "code",
      "source": [
        "import numpy as np\n",
        "import sympy as sp\n",
        "\n",
        "def newton_nl(x0, f, j, vars, nmax, tolerance):\n",
        "  n = int(0)\n",
        "  x = np.array(x0,dtype=\"float\")\n",
        "\n",
        "  #Conversão dos arrays em matrizes\n",
        "  f_matrix = sp.Matrix(f)\n",
        "  j_matrix = sp.Matrix(j)\n",
        "\n",
        "  #Conversão das matrizes em funções numpy\n",
        "  f_np = sp.lambdify(vars, f_matrix, \"numpy\")\n",
        "  j_np = sp.lambdify(vars, j_matrix, \"numpy\")\n",
        "\n",
        "  for i in range(nmax):\n",
        "    #Calcula as matrizes no x*\n",
        "    function_x = np.array(f_np(*x),dtype=\"float\").flatten()\n",
        "    jacobian_x = np.array(j_np(*x),dtype=\"float\")\n",
        "\n",
        "    #Define novo x\n",
        "    dx = np.linalg.solve(jacobian_x,-function_x)\n",
        "    x += dx\n",
        "\n",
        "    #Calcula a tolerância\n",
        "    if np.abs(function_x).max() < tolerance:\n",
        "      return x, n\n",
        "    n += 1\n",
        "  return x, n\n",
        "\n",
        "if __name__ == \"__main__\":\n",
        "  x,y = sp.symbols(\"x y\")\n",
        "  vars = [x,y]\n",
        "  x0 = np.array([1,1])\n",
        "\n",
        "  #Definição de F(x)\n",
        "  function = np.array([\n",
        "    x**2 + y**2 - 4,\n",
        "    sp.exp(x) + y - 1\n",
        "  ])\n",
        "\n",
        "  #Definição da Jacobiana\n",
        "  jacobian = np.array([\n",
        "    [2*x, 2*y],\n",
        "    [sp.exp(x), 1]\n",
        "  ])\n",
        "\n",
        "  sol, n = newton_nl(x0,function,jacobian,vars,100,0.001)\n",
        "\n",
        "  print(f\"Solução obtida: {sol}, em {n} iterações.\")"
      ],
      "metadata": {
        "colab": {
          "base_uri": "https://localhost:8080/"
        },
        "id": "hX1WUgBYUIcx",
        "outputId": "4fdeff29-12f8-4ccb-9e4b-49b06a5d4a38"
      },
      "execution_count": null,
      "outputs": [
        {
          "output_type": "stream",
          "name": "stdout",
          "text": [
            "Solução obtida: [-1.81626407  0.8373678 ], em 6 iterações.\n"
          ]
        }
      ]
    },
    {
      "cell_type": "markdown",
      "source": [
        "Definido nosso método em função, podemos adicionar uma implementação com o cálculo automático da jacobiana usando um método da biblioteca sympy:\n",
        "\n",
        "Para testar, usamos um sistema diferente do primeiro:\n",
        "\n",
        "$x^2+y^2=4$\n",
        "\n",
        "$1/x-e^y=1.5$"
      ],
      "metadata": {
        "id": "Xsky2wtu42Kt"
      }
    },
    {
      "cell_type": "code",
      "source": [
        "import numpy as np\n",
        "import sympy as sp\n",
        "\n",
        "def newton_nl(x0, f, vars, nmax, tolerance):\n",
        "  n = int(0)\n",
        "  x = np.array(x0,dtype=\"float\")\n",
        "\n",
        "  #Conversão dos arrays em matrizes\n",
        "  f_matrix = sp.Matrix(f)\n",
        "  j_matrix = f_matrix.jacobian(vars) #Método .jacobian()\n",
        "\n",
        "  #Conversão das matrizes em funções numpy\n",
        "  f_np = sp.lambdify(vars, f_matrix, \"numpy\")\n",
        "  j_np = sp.lambdify(vars, j_matrix, \"numpy\")\n",
        "\n",
        "  for i in range(nmax):\n",
        "    #Calcula as matrizes no x*\n",
        "    function_x = np.array(f_np(*x),dtype=\"float\").flatten()\n",
        "    jacobian_x = np.array(j_np(*x),dtype=\"float\")\n",
        "\n",
        "    #Define novo x\n",
        "    dx = np.linalg.solve(jacobian_x,-function_x)\n",
        "    x += dx\n",
        "\n",
        "    #Calcula a tolerância\n",
        "    if np.abs(function_x).max() < tolerance:\n",
        "      return x, n\n",
        "    n += 1\n",
        "  return x, n\n",
        "\n",
        "if __name__ == \"__main__\":\n",
        "  x0 = np.array([1,1])\n",
        "  x,y = sp.symbols(\"x y\")\n",
        "  vars = [x,y]\n",
        "\n",
        "  #Definição de F(x)\n",
        "  function = np.array([\n",
        "    x**2 + y**2 - 4,\n",
        "    (1/x) - sp.exp(y) - 1.5,\n",
        "  ])\n",
        "\n",
        "  sol, n = newton_nl(x0,function,vars,100,0.001)\n",
        "\n",
        "  print(f\"Solução obtida: {sol}, em {n} iterações.\")"
      ],
      "metadata": {
        "colab": {
          "base_uri": "https://localhost:8080/"
        },
        "id": "EOdr9WSl5Byw",
        "outputId": "37f6fa17-bcdb-47dd-eeef-f9998bcc0bf7"
      },
      "execution_count": null,
      "outputs": [
        {
          "output_type": "stream",
          "name": "stdout",
          "text": [
            "Solução obtida: [ 0.6065377  -1.90581007], em 7 iterações.\n"
          ]
        }
      ]
    },
    {
      "cell_type": "markdown",
      "source": [
        "#Interpolação Numérica\n"
      ],
      "metadata": {
        "id": "bcKAYnQokdly"
      }
    },
    {
      "cell_type": "markdown",
      "source": [
        "A interpolação é um método utilizado para aproximar funções complexas, permitindo descobrir valores intermediários de um dado intervalo [a,b]\n",
        "\n",
        "##Interpolação de LaGrange"
      ],
      "metadata": {
        "id": "xtLbr9bXbZny"
      }
    },
    {
      "cell_type": "markdown",
      "source": [
        "Neste método, encontraremos um polinômio de LaGrange *único*, de grau *n* a partir de *n-1* dados. O polinômio é dado por:\n",
        "\n",
        "$p(x)=y_0 l_0+ y_1 l_1 + y_2 l_2 + ... +y_n l_n$\n",
        "\n",
        "Um polinômio de grau *n* que possui os pontos $\\{x_0,x_1,...,x_n\\}$ e aproxima os intermediários.\n",
        "\n",
        "Cada termo $l_n$ é dado por:\n",
        "\n",
        "$l_k^n=\\frac{(x-x_0)(x-x_1)...(x-x_{k-1})(x-x_{k+1})...(x-x_n)}{(x_k-x_0)(x_k-x_1)...(x_k-x_{k-1})(x_k-x_{k+1})...(x_k-x_n)}$"
      ],
      "metadata": {
        "id": "pXxzKzfDbfzN"
      }
    },
    {
      "cell_type": "markdown",
      "source": [
        "###Implementação Numérica (numpy)"
      ],
      "metadata": {
        "id": "a03n4HbMbkKx"
      }
    },
    {
      "cell_type": "code",
      "source": [
        "import numpy as np\n",
        "import sympy as sp\n",
        "import matplotlib.pyplot as plt\n",
        "\n",
        "#Para a implementação, utilizaremos o Método de Neville\n",
        "\n",
        "def interp(x,xdata,ydata):\n",
        "  n = len(xdata)\n",
        "  Q = np.zeros((n,n),dtype=\"float\") #Montamos uma matriz Q, com a coluna [n,0] = y\n",
        "  Q[:,0] = ydata\n",
        "\n",
        "  for j in range(1,n):\n",
        "    for i in range(n-j):\n",
        "      #Fórmula de recursão para Método de Neville\n",
        "      Q[i,j] = ( (((x-xdata[i+j])*Q[i,j-1])+(xdata[i]-x)*Q[i+1,j-1]) /(xdata[i]-xdata[i+j]))\n",
        "\n",
        "  return Q[0,n-1]\n",
        "\n",
        "if __name__ == \"__main__\":\n",
        "  #Pontos conhecidos\n",
        "  xdata = np.array([0,2.5,5,7.5,10],dtype=\"float\")\n",
        "  ydata = np.array([100,82,60,43,30],dtype=\"float\")\n",
        "  #Ponto buscado\n",
        "  x = float(8.5)\n",
        "  # Gera 100 pontos igualmente espaçados no intervalo [0,10]\n",
        "  x_interp = np.linspace(0, 10, 100)\n",
        "  y_interp = [interp(x, xdata, ydata) for x in x_interp]\n",
        "\n",
        "  #Plotando os pontos\n",
        "  plt.figure(figsize=(7,5))\n",
        "  #Pontos conhecidos\n",
        "  plt.scatter(xdata,ydata,color=\"red\",label=\"Dados Originais\",zorder=5)\n",
        "  #Curva Interpolada\n",
        "  plt.plot(x_interp, y_interp, color=\"blue\", label=\"Interpolação\", linewidth=2)\n",
        "  #Visual\n",
        "  plt.title(\"Interpolação de Numérica - Método de Neville\")\n",
        "  plt.xlabel(\"Posição(cm)\")\n",
        "  plt.ylabel(\"Temperatura(ºC)\")\n",
        "  plt.grid(True,linestyle=\"--\",alpha=0.6)\n",
        "  plt.legend()\n",
        "  plt.show()"
      ],
      "metadata": {
        "colab": {
          "base_uri": "https://localhost:8080/",
          "height": 488
        },
        "id": "_pf8hsYRlEmP",
        "outputId": "d9450b3d-b7b0-4ce8-e27e-a66e73889c64"
      },
      "execution_count": null,
      "outputs": [
        {
          "output_type": "display_data",
          "data": {
            "text/plain": [
              "<Figure size 700x500 with 1 Axes>"
            ],
            "image/png": "[encoded data removed]"
          },
          "metadata": {}
        }
      ]
    },
    {
      "cell_type": "markdown",
      "source": [
        "###Implementação Simbólica (sympy)"
      ],
      "metadata": {
        "id": "AAWngwzXbrd9"
      }
    },
    {
      "cell_type": "code",
      "source": [
        "#Bibliotecas necessárias à esta atividade\n",
        "import numpy as np\n",
        "import sympy as sp\n",
        "import matplotlib.pyplot as plt\n",
        "import math\n",
        "\n",
        "def lagrange_interpolation(xdata, ydata):\n",
        "  x = sp.symbols('x')\n",
        "  n = len(xdata)\n",
        "  polynom = 0\n",
        "\n",
        "  for i in range(n):\n",
        "    l = 1\n",
        "    for j in range(n):\n",
        "      if i != j:\n",
        "        l = l*(x-xdata[j])/(xdata[i]-xdata[j]) #Cálculo dos termos l\n",
        "    polynom += ydata[i]*l #Somatório dos termos no polinômio\n",
        "\n",
        "  return polynom\n",
        "\n",
        "if __name__ == \"__main__\":\n",
        "  #Definindo dados\n",
        "  x_sym = sp.Symbol('x')\n",
        "  xdata1 = [2, 2.5, 4]\n",
        "  ydata1 = [0.5, 0.4, 0.25]\n",
        "  xdata2 = [-1, 0, 2, 4]\n",
        "  ydata2 = [-2, 3, 19, 123]\n",
        "  result1 = sp.simplify(lagrange_interpolation(xdata1, ydata1))\n",
        "  result2 = sp.simplify(lagrange_interpolation(xdata2, ydata2))\n",
        "\n",
        "  # Plotando gráfico para P1(x)\n",
        "  print(f'P1(x) = {result1}')\n",
        "  f1 = sp.lambdify(x_sym, result1, 'numpy')\n",
        "  xplot1 = np.linspace(min(xdata1)-0.5, max(xdata1)+0.5, 100)\n",
        "  yplot1 = f1(xplot1)\n",
        "  plt.plot(xplot1, yplot1, color='blue')\n",
        "  plt.scatter(xdata1,ydata1,color='red')\n",
        "  plt.title('Interpolação de Lagrange [P1(x)]')\n",
        "  plt.grid(True,linestyle='--')\n",
        "  plt.show()\n",
        "\n",
        "  # Plotando gráfico para P2(x)\n",
        "  print(f'P2(x) = {result2}')\n",
        "  f2 = sp.lambdify(x_sym, result2, 'numpy')\n",
        "  xplot2 = np.linspace(min(xdata2)-0.5, max(xdata2)+0.5, 100)\n",
        "  yplot2 = f2(xplot2)\n",
        "  plt.plot(xplot2, yplot2, color='green')\n",
        "  plt.scatter(xdata2,ydata2,color='red')\n",
        "  plt.title('Interpolação de Lagrange [P2(x)]')\n",
        "  plt.grid(True,linestyle='--')\n",
        "  plt.show()"
      ],
      "metadata": {
        "colab": {
          "base_uri": "https://localhost:8080/",
          "height": 922
        },
        "id": "DTgrxqewbwKr",
        "outputId": "02e7e95a-82f0-40db-a340-d811b33046c0"
      },
      "execution_count": null,
      "outputs": [
        {
          "output_type": "stream",
          "name": "stdout",
          "text": [
            "P1(x) = 0.05*x**2 - 0.425*x + 1.15\n"
          ]
        },
        {
          "output_type": "display_data",
          "data": {
            "text/plain": [
              "<Figure size 640x480 with 1 Axes>"
            ],
            "image/png": "[encoded data removed]"
          },
          "metadata": {}
        },
        {
          "output_type": "stream",
          "name": "stdout",
          "text": [
            "P2(x) = 2*x**3 - x**2 + 2*x + 3\n"
          ]
        },
        {
          "output_type": "display_data",
          "data": {
            "text/plain": [
              "<Figure size 640x480 with 1 Axes>"
            ],
            "image/png": "[encoded data removed]"
          },
          "metadata": {}
        }
      ]
    },
    {
      "cell_type": "markdown",
      "source": [
        "#Integração Numérica"
      ],
      "metadata": {
        "id": "aTTwTAZO60oc"
      }
    },
    {
      "cell_type": "markdown",
      "source": [
        "##Integração de Riemann"
      ],
      "metadata": {
        "id": "HL4H7qXM_zcp"
      }
    },
    {
      "cell_type": "code",
      "source": [
        "import numpy as np\n",
        "import matplotlib.pyplot as plt\n",
        "\n",
        "def function(x):\n",
        "  return(x**2)\n",
        "\n",
        "def integral_riemann(function,a,b,n):\n",
        "  x = np.linspace(a,b,n+1)\n",
        "  return (((b-a)/n)*np.sum(function(x[0:n+1])))\n",
        "\n",
        "def integral_riemann_adapt(function,a,b,tol):\n",
        "  n = 1\n",
        "  valor1 = integral_riemann(function,a,b,n)\n",
        "  valor2 = integral_riemann(function,a,b,n+1)\n",
        "\n",
        "  while(np.abs(valor1-valor2) > tol):\n",
        "    n += 1\n",
        "    valor1 = valor2\n",
        "    valor2 = integral_riemann(function,a,b,n+1)\n",
        "  return(n,valor1)\n",
        "\n",
        "#Testando\n",
        "tol = float(input(\"Digite um valor para a tolerância: \"))\n",
        "iter, resultado = integral_riemann_adapt(function,0,1,tol)\n",
        "print(\"Função: x^2\")\n",
        "print(\"0 < x < 1\")\n",
        "print(f\"Resultou em {resultado} após {iter} iterações.\")"
      ],
      "metadata": {
        "colab": {
          "base_uri": "https://localhost:8080/"
        },
        "id": "3vB4wOz4_2RF",
        "outputId": "6d28b7b8-ed6d-4972-8919-a5804ab65d29"
      },
      "execution_count": null,
      "outputs": [
        {
          "output_type": "stream",
          "name": "stdout",
          "text": [
            "Digite um valor para a tolerância: 0.0001\n",
            "Função: x^2\n",
            "0 < x < 1\n",
            "Resultou em 0.34040864907756396 após 71 iterações.\n"
          ]
        }
      ]
    },
    {
      "cell_type": "markdown",
      "source": [
        "##Integração pelo Método do Trapézio\n",
        "\n",
        "$\\int_a^b f(x) dx \\cong \\frac{\\Delta x}{2}((\\sum_{i=1}^{n-1} 2f(x_i))+f(x_0) + f(x_n))$"
      ],
      "metadata": {
        "id": "D-NFCsLIEK3Y"
      }
    },
    {
      "cell_type": "markdown",
      "source": [
        "###Implementação Base"
      ],
      "metadata": {
        "id": "MF7Ozoe6HhKH"
      }
    },
    {
      "cell_type": "code",
      "source": [
        "#Função a ser utilizada\n",
        "def function(x):\n",
        "  return(x**2)\n",
        "\n",
        "#Definimos um caso base com n iterações\n",
        "def integral_trapz(function,a,b,n):\n",
        "  h = np.abs(b-a)/n\n",
        "  x = np.linspace(a,b,n+1)\n",
        "  return((h/2)*(np.sum(2*function(x[1:n]))+function(a)+function(b)))\n",
        "\n",
        "#Em seguida, um caso adaptativo com certa tolerância\n",
        "def integral_trapz_adapt(function,a,b,tol):\n",
        "  n = 1\n",
        "  valor1 = integral_trapz(function,a,b,n)\n",
        "  valor2 = integral_trapz(function,a,b,n+1)\n",
        "\n",
        "  while(np.abs((valor2-valor1)) > tol):\n",
        "    n += 1\n",
        "    valor2 = valor1\n",
        "    valor1 = integral_trapz(function,a,b,n+1)\n",
        "  return(n,valor2)\n",
        "\n",
        "#Testando\n",
        "tol = 0.0001\n",
        "iter, resultado = integral_trapz_adapt(function,0,1,tol)\n",
        "print(\"Função: x^2\")\n",
        "print(\"0 < x < 1\")\n",
        "print(f\"Resultou em {resultado} após {iter} iterações.\")\n",
        "print(\"Erro:\",np.abs(resultado-(1/3)))"
      ],
      "metadata": {
        "colab": {
          "base_uri": "https://localhost:8080/"
        },
        "id": "laUdbUHPEPA2",
        "outputId": "58e5b06c-0068-437a-ef7e-82fd51810f94"
      },
      "execution_count": null,
      "outputs": [
        {
          "output_type": "stream",
          "name": "stdout",
          "text": [
            "Função: x^2\n",
            "0 < x < 1\n",
            "Resultou em 0.3340740740740741 após 15 iterações.\n",
            "Erro: 0.000740740740740764\n"
          ]
        }
      ]
    },
    {
      "cell_type": "markdown",
      "source": [
        "###Exercício 1\n",
        "\n",
        "Mude a condição do laço While anterior para\n",
        "$\\frac{|valor_2-valor_1|}{|valor_1|}<tol$\n",
        "\n",
        "que mudança você observa na precisão do resultado ?"
      ],
      "metadata": {
        "id": "MLSmOxUMHkM1"
      }
    },
    {
      "cell_type": "code",
      "source": [
        "#Função a ser utilizada\n",
        "def function(x):\n",
        "  return(x**2)\n",
        "\n",
        "#Definimos um caso base com n iterações\n",
        "def integral_trapz(function,a,b,n):\n",
        "  h = np.abs(b-a)/n\n",
        "  x = np.linspace(a,b,n+1)\n",
        "  return((h/2)*(np.sum(2*function(x[1:n]))+function(a)+function(b)))\n",
        "\n",
        "#Em seguida, um caso adaptativo com certa tolerância\n",
        "def integral_trapz_adapt(function,a,b,tol):\n",
        "  n = 1\n",
        "  valor1 = integral_trapz(function,a,b,n)\n",
        "  valor2 = integral_trapz(function,a,b,n+1)\n",
        "\n",
        "  while(np.abs((valor2-valor1)/valor1) > tol):\n",
        "    n += 1\n",
        "    valor2 = valor1\n",
        "    valor1 = integral_trapz(function,a,b,n+1)\n",
        "  return(n,valor2)\n",
        "\n",
        "#Testando\n",
        "tol = 0.0001\n",
        "iter, resultado = integral_trapz_adapt(function,0,1,tol)\n",
        "print(\"Função: x^2\")\n",
        "print(\"0 < x < 1\")\n",
        "print(f\"Resultou em {resultado} após {iter} iterações.\")\n",
        "print(\"Erro:\", np.abs(resultado-(1/3)))"
      ],
      "metadata": {
        "colab": {
          "base_uri": "https://localhost:8080/"
        },
        "id": "gKDmHIdiHqQc",
        "outputId": "3509d26f-5281-4315-e27f-7f100ad148f8"
      },
      "execution_count": null,
      "outputs": [
        {
          "output_type": "stream",
          "name": "stdout",
          "text": [
            "Função: x^2\n",
            "0 < x < 1\n",
            "Resultou em 0.33367768595041325 após 22 iterações.\n",
            "Erro: 0.0003443526170799349\n"
          ]
        }
      ]
    }
  ]
}